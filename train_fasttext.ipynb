{
 "cells": [
  {
   "cell_type": "code",
   "execution_count": 1,
   "metadata": {},
   "outputs": [],
   "source": [
    "import fastText\n",
    "import pandas as pd\n",
    "train_set = 'dane/train.txt'\n",
    "dev_set = 'dane/dev.txt'\n",
    "test_set = 'dane/test.txt'\n",
    "\n",
    "rate = 0.3"
   ]
  },
  {
   "cell_type": "code",
   "execution_count": 2,
   "metadata": {},
   "outputs": [],
   "source": [
    "def count_precision(K, pred, real):\n",
    "    hit = 0\n",
    "    miss = 0\n",
    "    for row in range(0, len(pred)):\n",
    "        num = min(K, len(pred[row]))\n",
    "        for element in range(0, num):\n",
    "            test = (pred[row][element] in real[row])\n",
    "            if test:\n",
    "                hit+=1\n",
    "            else:\n",
    "                miss+=1\n",
    "    return (hit/(hit+miss))\n",
    "\n",
    "def count_total_precision(pred, real):\n",
    "    precision = 0.0\n",
    "    for K in [1,3,5]:\n",
    "        precision += count_precision(K, pred, real)\n",
    "    return precision/3.0\n",
    "\n",
    "def test_model(model, test_set):\n",
    "    data = pd.read_csv(dev_set, sep='jp2gmdxd', header=None)\n",
    "    text = data[0].str.replace(\"__label__[^\\n ]* \", \"\").str.replace(\" +\", \" \").to_list()\n",
    "    labels = data[0].str.findall(\"__label__[^\\n ]*\").to_list()\n",
    "    res = model.predict(text, k=5)\n",
    "    res_lists = []\n",
    "    for entry in res:\n",
    "        labs = []\n",
    "        for row in entry:\n",
    "            labs.append(row[1])\n",
    "        res_lists.append(labs)\n",
    "    return count_total_precision(res_lists, labels)"
   ]
  },
  {
   "cell_type": "code",
   "execution_count": 3,
   "metadata": {},
   "outputs": [
    {
     "name": "stdout",
     "output_type": "stream",
     "text": [
      "=== dim 400 ===\n"
     ]
    },
    {
     "name": "stderr",
     "output_type": "stream",
     "text": [
      "/usr/local/lib/python3.6/dist-packages/ipykernel_launcher.py:21: ParserWarning: Falling back to the 'python' engine because the 'c' engine does not support regex separators (separators > 1 char and different from '\\s+' are interpreted as regex); you can avoid this warning by specifying engine='python'.\n"
     ]
    },
    {
     "name": "stdout",
     "output_type": "stream",
     "text": [
      "Precision on ngrams: 2, epochs: 4: 0.4690228682781136\n",
      "Precision on ngrams: 2, epochs: 5: 0.4719272902574829\n",
      "Precision on ngrams: 2, epochs: 6: 0.473868500932573\n",
      "Precision on ngrams: 2, epochs: 7: 0.4755913762491278\n",
      "Precision on ngrams: 2, epochs: 8: 0.4766351736487948\n",
      "Precision on ngrams: 2, epochs: 9: 0.4758707761705649\n",
      "Precision on ngrams: 2, epochs: 10: 0.4771825112504465\n",
      "Precision on ngrams: 2, epochs: 11: 0.4765205068179889\n",
      "Precision on ngrams: 2, epochs: 12: 0.476513999100923\n"
     ]
    }
   ],
   "source": [
    "for dims in [400]:\n",
    "    print(\"=== dim \" + str(dims) + \" ===\")\n",
    "    for ngrams in [2]:\n",
    "        for epochs in [4,5,6,7,8,9,10,11,12]:\n",
    "            model = fastText.train_supervised(input=train_set, epoch=epochs, lr = rate, wordNgrams = ngrams, dim = dims, minCount = 1, loss='hs')\n",
    "            precision = test_model(model, dev_set)\n",
    "            print(\"Precision on ngrams: \" + str(ngrams) + \", epochs: \" + str(epochs) + \": \" + str(precision))\n",
    "            del(model)"
   ]
  },
  {
   "cell_type": "markdown",
   "metadata": {},
   "source": [
    "# new min 3\n",
    "* Precision on ngrams: 2, epochs: 7: 0.47850735081536294\n",
    "* Precision on ngrams: 2, epochs: 8: 0.47929805685376037\n",
    "* @9 : 0.4796\n",
    "\n",
    "\n",
    "# dim 400 min 2\n",
    "* Precision on ngrams: 2, epochs: 5: 0.47346045952705246\n",
    "* Precision on ngrams: 2, epochs: 6: 0.4752772070532709\n",
    "* Precision on ngrams: 2, epochs: 7: 0.47696681138606195\n",
    "* Precision on ngrams: 2, epochs: 8: 0.47794044449924833\n",
    "* Precision on ngrams: 2, epochs: 9: 0.47751679742238995\n",
    "\n",
    "# dim 400 min 3\n",
    "* Precision on ngrams: 2, epochs: 5: 0.47487684588928714\n",
    "* Precision on ngrams: 2, epochs: 6: 0.4762236006426908\n",
    "* Precision on ngrams: 2, epochs: 7: 0.47789082905870434\n",
    "* Precision on ngrams: 2, epochs: 8: 0.4785271386348046\n",
    "* Precision on ngrams: 2, epochs: 9: 0.4784082961798848\n",
    "* Precision on ngrams: 2, epochs: 10: 0.4781595229098928\n",
    "\n",
    "# dim 400 min 4 - najlepszy!\n",
    "* Precision on ngrams: 2, epochs: 4: 0.47417153509270155\n",
    "* Precision on ngrams: 2, epochs: 5: 0.47732717215740944\n",
    "* Precision on ngrams: 2, epochs: 6: 0.47905936928705634\n",
    "* Precision on ngrams: 2, epochs: 7: 0.4799145838825259\n",
    "* Precision on ngrams: 2, epochs: 8: 0.48089732335876495\n",
    "* Precision on ngrams: 2, epochs: 9: 0.4813129955506275\n",
    "* Precision on ngrams: 2, epochs: 10: 0.4808059532494095\n",
    "* Precision on ngrams: 2, epochs: 11: 0.4813650091971473\n",
    "* Precision on ngrams: 2, epochs: 12: 0.4815445609842636\n",
    "* Precision on ngrams: 2, epochs: 13: 0.48153383024038043\n",
    "\n",
    "# dim 400 min 5\n",
    "* Precision on ngrams: 2, epochs: 5: 0.4729224851723943\n",
    "* Precision on ngrams: 2, epochs: 6: 0.47484989689259266\n",
    "* Precision on ngrams: 2, epochs: 7: 0.4761287644188206\n",
    "* Precision on ngrams: 2, epochs: 8: 0.4759162249956665\n",
    "* Precision on ngrams: 2, epochs: 9: 0.47705030013384214\n",
    "* Precision on ngrams: 2, epochs: 10: 0.47636375907990663"
   ]
  },
  {
   "cell_type": "code",
   "execution_count": 2,
   "metadata": {},
   "outputs": [
    {
     "name": "stdout",
     "output_type": "stream",
     "text": [
      "(('__label__rower',), array([0.0125822]))\n"
     ]
    }
   ],
   "source": [
    "model = fastText.train_supervised(input=train_set, epoch = 1, lr = 0.3, wordNgrams = 2, dim = 300, minCount = 1, loss='hs')"
   ]
  },
  {
   "cell_type": "code",
   "execution_count": 22,
   "metadata": {},
   "outputs": [
    {
     "name": "stderr",
     "output_type": "stream",
     "text": [
      "/usr/local/lib/python3.6/dist-packages/ipykernel_launcher.py:21: ParserWarning: Falling back to the 'python' engine because the 'c' engine does not support regex separators (separators > 1 char and different from '\\s+' are interpreted as regex); you can avoid this warning by specifying engine='python'.\n"
     ]
    },
    {
     "name": "stdout",
     "output_type": "stream",
     "text": [
      "Precision on dane/dev.txt: 0.0\n",
      "Precision on dane/test.txt: 0.0\n"
     ]
    }
   ],
   "source": [
    "for dataset in [dev_set, test_set]:\n",
    "    precision = test_model(model, dataset)\n",
    "    print(\"Precision on \" + dataset + \": \" + str(precision))"
   ]
  },
  {
   "cell_type": "code",
   "execution_count": 4,
   "metadata": {},
   "outputs": [],
   "source": [
    "model.save_model('candidate.bin')"
   ]
  },
  {
   "cell_type": "markdown",
   "metadata": {},
   "source": [
    "* lr = 0.2 ngrams = 2 dim = 300 mincount=2 epoch 11 precision 0.4746788\n",
    "* lr = 0.2 ngrams = 2 dim = 350 mincount=2 epoch 11 precision 0.4757021\n",
    "\n",
    "* new 0.477237355 -> 0.472\n",
    "* new 0.478 ->  0.474\n",
    "\n",
    "* minn i ws nie zmieniają wyniku\n",
    "\n",
    "* count 1 epochs 11 dim 400: 0.48054"
   ]
  }
 ],
 "metadata": {
  "kernelspec": {
   "display_name": "Python 3",
   "language": "python",
   "name": "python3"
  },
  "language_info": {
   "codemirror_mode": {
    "name": "ipython",
    "version": 3
   },
   "file_extension": ".py",
   "mimetype": "text/x-python",
   "name": "python",
   "nbconvert_exporter": "python",
   "pygments_lexer": "ipython3",
   "version": "3.6.7"
  }
 },
 "nbformat": 4,
 "nbformat_minor": 2
}
